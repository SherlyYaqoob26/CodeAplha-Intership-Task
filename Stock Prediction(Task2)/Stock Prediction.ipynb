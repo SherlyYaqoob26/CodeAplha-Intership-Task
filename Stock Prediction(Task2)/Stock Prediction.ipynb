{
 "cells": [
  {
   "cell_type": "markdown",
   "id": "2e3510ed-8909-404d-99bd-a1753c25b5cb",
   "metadata": {},
   "source": [
    "## Stock Prediction using LTSM \n"
   ]
  },
  {
   "cell_type": "code",
   "execution_count": null,
   "id": "29c4540a",
   "metadata": {},
   "outputs": [],
   "source": [
    "# Install required packages\n",
    "%pip install protobuf==3.20.*\n",
    "%pip install streamlit\n",
    "\n",
    "# Install required packages\n",
    "%pip install protobuf==3.19.*\n",
    "# Importing libraries\n",
    "import streamlit as st\n",
    "import matplotlib\n",
    "matplotlib.use('Agg')\n",
    "import matplotlib.pyplot as plt\n",
    "import pandas as pd\n",
    "import seaborn as sb\n",
    "import numpy as np\n",
    "from sklearn.preprocessing import MinMaxScaler\n",
    "from sklearn.metrics import mean_squared_error, mean_absolute_error, r2_score\n",
    "from tensorflow.keras.models import Sequential\n",
    "from tensorflow.keras.layers import LSTM, Dense, Dropout\n",
    "from tensorflow.keras.callbacks import EarlyStopping\n",
    "from sklearn.model_selection import train_test_split\n"
   ]
  },
  {
   "cell_type": "code",
   "execution_count": null,
   "id": "e927a4b9",
   "metadata": {},
   "outputs": [],
   "source": [
    "#streamlit app\n",
    "st.title('Stock Price Prediction')\n",
    "@st.cache_data\n",
    "def load_data(file_path=\"TATAMOTORS.NS.csv\"):\n",
    "    df = pd.read_csv(file_path, parse_dates=['Date'], index_col='Date')\n",
    "    \n",
    "    # Calculate 50-day Simple Moving Average (SMA)\n",
    "    df['SMA_50'] = df['Close'].rolling(window=50).mean()\n",
    "    \n",
    "    # Calculate Daily Percentage Changes\n",
    "    df['Daily Changes'] = df['Close'].pct_change()\n",
    "    \n",
    "    # Drop missing values (from rolling mean and pct_change)\n",
    "    df.dropna(inplace=True)\n",
    "    \n",
    "    return df"
   ]
  },
  {
   "cell_type": "code",
   "execution_count": null,
   "id": "144ca49a",
   "metadata": {},
   "outputs": [],
   "source": [
    "#loading & reading data\n",
    "df=pd.read_csv('TATAMOTORS.NS.csv')\n",
    "print(df.head(n=10))"
   ]
  },
  {
   "cell_type": "code",
   "execution_count": null,
   "id": "b3c748c5",
   "metadata": {},
   "outputs": [],
   "source": [
    "# Feature Engineering \n",
    "# adding two new features to the data frame to smooth the data and to \n",
    "# calculate the daily percentage change in stock prices.\n",
    "# calaulating moving average for 50 days \n",
    "df['SMA_50'] = df['Close'].rolling(window=50).mean()\n",
    "# calculating the daily percentage change in stock prices.\n",
    "df['Daily_Change'] = df['Close'].pct_change()\n",
    "# df['RSI'] = compute_rsi(df['Close'])\n",
    "df.dropna(inplace=True)\n",
    "\n",
    "# RSI Calculation\n",
    "def compute_rsi(data, window=14):\n",
    "    delta = data.diff()\n",
    "    gain = (delta.where(delta > 0, 0)).rolling(window=window).mean()\n",
    "    loss = (-delta.where(delta < 0, 0)).rolling(window=window).mean()\n",
    "    rs = gain / loss\n",
    "    return 100 - (100 / (1 + rs))\n",
    "\n",
    "df['RSI'] = compute_rsi(df['Close'])"
   ]
  },
  {
   "cell_type": "code",
   "execution_count": null,
   "id": "f6feddbe",
   "metadata": {},
   "outputs": [],
   "source": [
    "# Streamlit App Layout\n",
    "st.title(\"📈 Stock Price Analysis with Streamlit\")"
   ]
  },
  {
   "cell_type": "code",
   "execution_count": null,
   "id": "ab6c75ba",
   "metadata": {},
   "outputs": [],
   "source": [
    "# splitting the data into training and testing data\n",
    "# Split data (70% train, 30% test)\n",
    "train_size = int(len(df) * 0.7)\n",
    "train_data = df.iloc[:train_size]\n",
    "test_data = df.iloc[train_size:]\n"
   ]
  },
  {
   "cell_type": "code",
   "execution_count": null,
   "id": "9a95fda2",
   "metadata": {},
   "outputs": [],
   "source": [
    "# scaling the data\n",
    "from sklearn.preprocessing import MinMaxScaler\n",
    "import numpy as np\n",
    "from sklearn.impute import SimpleImputer\n",
    "\n",
    "# Replace infinite values with NaN\n",
    "train_data.replace([float('inf'), -float('inf')], np.nan, inplace=True)\n",
    "test_data.replace([float('inf'), -float('inf')], np.nan, inplace=True)\n",
    "\n",
    "# Impute NaN values with the mean\n",
    "imputer = SimpleImputer(strategy='mean')\n",
    "train_data[['Daily_Change', 'RSI']] = imputer.fit_transform(train_data[['Daily_Change', 'RSI']])\n",
    "test_data[['Daily_Change', 'RSI']] = imputer.transform(test_data[['Daily_Change', 'RSI']])\n",
    "\n",
    "# Normalizing the data\n",
    "scaler = MinMaxScaler()\n",
    "train_scaled = scaler.fit_transform(train_data[['Close', 'SMA_50', 'Daily_Change', 'RSI']])\n",
    "test_scaled = scaler.transform(test_data[['Close', 'SMA_50', 'Daily_Change', 'RSI']])"
   ]
  },
  {
   "cell_type": "code",
   "execution_count": null,
   "id": "46a19541",
   "metadata": {},
   "outputs": [],
   "source": [
    "# Building the LSTM model\n",
    "def create_sequences(data, time_steps=60):\n",
    "    X_seq, y_seq = [], []\n",
    "    for i in range(len(data) - time_steps):\n",
    "        X_seq.append(data[i:i+time_steps])\n",
    "        y_seq.append(data[i+time_steps, 0])  # Predict 'Close' price\n",
    "    return np.array(X_seq), np.array(y_seq)"
   ]
  },
  {
   "cell_type": "code",
   "execution_count": null,
   "id": "ee973faf",
   "metadata": {},
   "outputs": [],
   "source": [
    "# Prepare sequences\n",
    "time_steps = 60\n",
    "X_train_seq, y_train_seq = create_sequences(train_scaled)\n",
    "X_test_seq, y_test_seq = create_sequences(test_scaled)"
   ]
  },
  {
   "cell_type": "code",
   "execution_count": null,
   "id": "c93dc2de",
   "metadata": {},
   "outputs": [],
   "source": [
    "from tensorflow.keras.models import Sequential\n",
    "from tensorflow.keras.layers import LSTM, Dense, Dropout\n",
    "\n",
    "# Define the LSTM model\n",
    "\n",
    "model = Sequential()\n",
    "model.add(LSTM(50, return_sequences=True, input_shape=(X_train_seq.shape[1], X_train_seq.shape[2])))\n",
    "model.add(Dropout(0.3))  # Increased from 0.2 to 0.3\n",
    "model.add(LSTM(50, return_sequences=False))\n",
    "model.add(Dropout(0.3))  # Increased dropout\n",
    "model.add(Dense(25))\n",
    "model.add(Dense(1))\n",
    "\n",
    "# compiling the model\n",
    "model.compile(optimizer='adam', loss='mse')"
   ]
  },
  {
   "cell_type": "code",
   "execution_count": null,
   "id": "59145fb8",
   "metadata": {},
   "outputs": [],
   "source": [
    "history = model.fit(X_train_seq, y_train_seq, epochs=30, batch_size=32, validation_data=(X_test_seq, y_test_seq), verbose=1)"
   ]
  },
  {
   "cell_type": "code",
   "execution_count": null,
   "id": "a3704ec0",
   "metadata": {},
   "outputs": [],
   "source": [
    "y_pred = model.predict(X_test_seq)"
   ]
  },
  {
   "cell_type": "code",
   "execution_count": null,
   "id": "9669e99d",
   "metadata": {},
   "outputs": [],
   "source": [
    "# eavaluating the model\n",
    "st.subheader('Model Evaluation Metrics')\n",
    "rmse = np.sqrt(mean_squared_error(y_test_seq, y_pred))\n",
    "mae = mean_absolute_error(y_test_seq, y_pred)   \n",
    "r2 = r2_score(y_test_seq, y_pred)\n",
    "print('Root Mean Squared Error:',round(rmse,3))\n",
    "print('Mean Absolute Error:', round(mae,3))\n",
    "print('R2 Score:', round(r2,3))"
   ]
  },
  {
   "cell_type": "code",
   "execution_count": null,
   "id": "b6692ef6",
   "metadata": {},
   "outputs": [],
   "source": [
    "\n",
    "%matplotlib inline\n",
    "import matplotlib.pyplot as plt\n",
    "\n",
    "plt.figure(figsize=(10, 5))\n",
    "plt.plot(y_test_seq, label=\"Actual Prices\", color='blue')\n",
    "plt.plot(y_pred, label=\"Predicted Prices\", color='red')\n",
    "plt.xlabel(\"Time\")\n",
    "plt.ylabel(\"Stock Price\")\n",
    "plt.legend()\n",
    "plt.title(\"LSTM Predictions vs Actual Stock Prices\")\n",
    "plt.show()"
   ]
  },
  {
   "cell_type": "code",
   "execution_count": null,
   "id": "10c12c29",
   "metadata": {},
   "outputs": [],
   "source": [
    "# Plotting the training history\n",
    "st.subheader('Training History')\n",
    "\n",
    "fig_loss, ax_loss = plt.subplots()\n",
    "ax_loss.plot(history.history['loss'], label='Train Loss', color='blue')\n",
    "ax_loss.plot(history.history['val_loss'], label='Validation Loss', color='orange')\n",
    "ax_loss.set_title('Training Loss vs Validation Loss')\n",
    "ax_loss.set_ylabel('Loss')\n",
    "ax_loss.set_xlabel('Epochs')\n",
    "ax_loss.legend()\n",
    "st.pyplot(fig_loss)"
   ]
  },
  {
   "cell_type": "code",
   "execution_count": null,
   "id": "d2f97940",
   "metadata": {},
   "outputs": [],
   "source": [
    "# Plotting Results \n",
    "st.subheader(\"Stock Price Prediction\")\n",
    "fig, ax = plt.subplots(figsize=(10, 6))  \n",
    "ax.plot(y_test_seq,label='Actual Price', color='blue')\n",
    "ax.plot(y_pred, label='Predicted Price', color='red')\n",
    "ax.set_xlabel('Days')\n",
    "ax.set_ylabel('Stock Price')\n",
    "ax.set_title('Stock Price Prediction')\n",
    "ax.legend()\n",
    "st.pyplot(fig)"
   ]
  }
 ],
 "metadata": {
  "kernelspec": {
   "display_name": "tf_env",
   "language": "python",
   "name": "python3"
  },
  "language_info": {
   "codemirror_mode": {
    "name": "ipython",
    "version": 3
   },
   "file_extension": ".py",
   "mimetype": "text/x-python",
   "name": "python",
   "nbconvert_exporter": "python",
   "pygments_lexer": "ipython3",
   "version": "3.9.15"
  }
 },
 "nbformat": 4,
 "nbformat_minor": 5
}
